{
 "cells": [
  {
   "cell_type": "code",
   "execution_count": 39,
   "metadata": {},
   "outputs": [],
   "source": [
    "import pandas as pd\n",
    "from pathlib import Path\n",
    "from gtin_validation import main"
   ]
  },
  {
   "cell_type": "code",
   "execution_count": 40,
   "metadata": {},
   "outputs": [
    {
     "name": "stderr",
     "output_type": "stream",
     "text": [
      "C:\\Users\\marke\\AppData\\Local\\Temp\\ipykernel_8500\\2403740105.py:5: DtypeWarning: Columns (12) have mixed types. Specify dtype option on import or set low_memory=False.\n",
      "  products_df = pd.read_csv(products_df_path, delimiter=\";\", encoding=\"latin1\")\n"
     ]
    }
   ],
   "source": [
    "infoprice_df_path = Path.cwd() / \"data\" / \"infoprice.csv\"\n",
    "products_df_path = output_file = Path.cwd() / \"data\" / \"produtos.csv\"\n",
    "\n",
    "infoprice_df = pd.read_csv(infoprice_df_path, delimiter=\",\", encoding=\"utf-8\")\n",
    "products_df = pd.read_csv(products_df_path, delimiter=\";\", encoding=\"latin1\")\n"
   ]
  },
  {
   "cell_type": "code",
   "execution_count": 41,
   "metadata": {},
   "outputs": [],
   "source": [
    "products_df[\"Código de barras\"] = products_df[\"Código de barras\"].fillna(0).astype(str)\n",
    "infoprice_df[\"ean\"] = infoprice_df[\"ean\"].fillna(0).astype(\"int64\").astype(str)"
   ]
  },
  {
   "cell_type": "code",
   "execution_count": 42,
   "metadata": {},
   "outputs": [],
   "source": [
    "products_df['Código de barras'] = products_df['Código de barras'].str.strip()\n",
    "infoprice_df['ean'] = infoprice_df['ean'].str.strip()"
   ]
  },
  {
   "cell_type": "code",
   "execution_count": 43,
   "metadata": {},
   "outputs": [
    {
     "name": "stdout",
     "output_type": "stream",
     "text": [
      "360\n",
      "44104056\n"
     ]
    }
   ],
   "source": [
    "print(products_df['Código de barras'].duplicated().sum())\n",
    "print(infoprice_df['ean'].duplicated().sum())"
   ]
  },
  {
   "cell_type": "code",
   "execution_count": 44,
   "metadata": {},
   "outputs": [],
   "source": [
    "infoprice_df = infoprice_df.drop_duplicates(subset='ean')\n",
    "products_df = products_df.drop_duplicates(subset='Código de barras')"
   ]
  },
  {
   "cell_type": "code",
   "execution_count": 45,
   "metadata": {},
   "outputs": [],
   "source": [
    "products_df[\"Válidos GTINs\"] = products_df[\"Código de barras\"].apply(main)\n",
    "infoprice_df[\"valid\"] = infoprice_df[\"ean\"].apply(main)"
   ]
  },
  {
   "cell_type": "code",
   "execution_count": 46,
   "metadata": {},
   "outputs": [
    {
     "data": {
      "text/html": [
       "<div>\n",
       "<style scoped>\n",
       "    .dataframe tbody tr th:only-of-type {\n",
       "        vertical-align: middle;\n",
       "    }\n",
       "\n",
       "    .dataframe tbody tr th {\n",
       "        vertical-align: top;\n",
       "    }\n",
       "\n",
       "    .dataframe thead th {\n",
       "        text-align: right;\n",
       "    }\n",
       "</style>\n",
       "<table border=\"1\" class=\"dataframe\">\n",
       "  <thead>\n",
       "    <tr style=\"text-align: right;\">\n",
       "      <th></th>\n",
       "      <th>Válidos GTINs</th>\n",
       "    </tr>\n",
       "  </thead>\n",
       "  <tbody>\n",
       "    <tr>\n",
       "      <th>count</th>\n",
       "      <td>79428</td>\n",
       "    </tr>\n",
       "    <tr>\n",
       "      <th>unique</th>\n",
       "      <td>2</td>\n",
       "    </tr>\n",
       "    <tr>\n",
       "      <th>top</th>\n",
       "      <td>True</td>\n",
       "    </tr>\n",
       "    <tr>\n",
       "      <th>freq</th>\n",
       "      <td>75407</td>\n",
       "    </tr>\n",
       "  </tbody>\n",
       "</table>\n",
       "</div>"
      ],
      "text/plain": [
       "       Válidos GTINs\n",
       "count          79428\n",
       "unique             2\n",
       "top             True\n",
       "freq           75407"
      ]
     },
     "execution_count": 46,
     "metadata": {},
     "output_type": "execute_result"
    }
   ],
   "source": [
    "products_df.describe(include=\"bool\")"
   ]
  },
  {
   "cell_type": "code",
   "execution_count": 47,
   "metadata": {},
   "outputs": [
    {
     "data": {
      "text/html": [
       "<div>\n",
       "<style scoped>\n",
       "    .dataframe tbody tr th:only-of-type {\n",
       "        vertical-align: middle;\n",
       "    }\n",
       "\n",
       "    .dataframe tbody tr th {\n",
       "        vertical-align: top;\n",
       "    }\n",
       "\n",
       "    .dataframe thead th {\n",
       "        text-align: right;\n",
       "    }\n",
       "</style>\n",
       "<table border=\"1\" class=\"dataframe\">\n",
       "  <thead>\n",
       "    <tr style=\"text-align: right;\">\n",
       "      <th></th>\n",
       "      <th>valid</th>\n",
       "    </tr>\n",
       "  </thead>\n",
       "  <tbody>\n",
       "    <tr>\n",
       "      <th>count</th>\n",
       "      <td>1791604</td>\n",
       "    </tr>\n",
       "    <tr>\n",
       "      <th>unique</th>\n",
       "      <td>2</td>\n",
       "    </tr>\n",
       "    <tr>\n",
       "      <th>top</th>\n",
       "      <td>True</td>\n",
       "    </tr>\n",
       "    <tr>\n",
       "      <th>freq</th>\n",
       "      <td>1748900</td>\n",
       "    </tr>\n",
       "  </tbody>\n",
       "</table>\n",
       "</div>"
      ],
      "text/plain": [
       "          valid\n",
       "count   1791604\n",
       "unique        2\n",
       "top        True\n",
       "freq    1748900"
      ]
     },
     "execution_count": 47,
     "metadata": {},
     "output_type": "execute_result"
    }
   ],
   "source": [
    "infoprice_df.describe(include=\"bool\")"
   ]
  },
  {
   "cell_type": "code",
   "execution_count": 48,
   "metadata": {},
   "outputs": [],
   "source": [
    "df = pd.merge(products_df, infoprice_df[['ean', 'valid']], left_on='Código de barras', right_on='ean', how='left')"
   ]
  },
  {
   "cell_type": "code",
   "execution_count": 49,
   "metadata": {},
   "outputs": [
    {
     "name": "stdout",
     "output_type": "stream",
     "text": [
      "<class 'pandas.core.frame.DataFrame'>\n",
      "RangeIndex: 79428 entries, 0 to 79427\n",
      "Data columns (total 18 columns):\n",
      " #   Column                    Non-Null Count  Dtype \n",
      "---  ------                    --------------  ----- \n",
      " 0   ID                        79428 non-null  int64 \n",
      " 1   Ativo                     79428 non-null  int64 \n",
      " 2   Código do produto         79428 non-null  int64 \n",
      " 3   Nome do produto           79428 non-null  object\n",
      " 4   Código de barras          79428 non-null  object\n",
      " 5   Valor de venda            79428 non-null  object\n",
      " 6   Valor de custo            79428 non-null  object\n",
      " 7   NCM                       79428 non-null  int64 \n",
      " 8   NCM (NOTAS)               79428 non-null  object\n",
      " 9   Descontinuado             79428 non-null  int64 \n",
      " 10  Categoria                 79428 non-null  object\n",
      " 11  Fabricante                53311 non-null  object\n",
      " 12  Fornecedor                1 non-null      object\n",
      " 13  Unidade de medida         79428 non-null  object\n",
      " 14  Data cadastro de produto  79428 non-null  object\n",
      " 15  Válidos GTINs             79428 non-null  bool  \n",
      " 16  ean                       54811 non-null  object\n",
      " 17  valid                     54811 non-null  object\n",
      "dtypes: bool(1), int64(5), object(12)\n",
      "memory usage: 10.4+ MB\n"
     ]
    }
   ],
   "source": [
    "df.info()"
   ]
  },
  {
   "cell_type": "code",
   "execution_count": 50,
   "metadata": {},
   "outputs": [],
   "source": [
    "filtered_df = df[(df['Válidos GTINs'] == True) & (df['valid'] == True)]\n",
    "filtered_products_df = products_df[(products_df['Válidos GTINs'] == True)]\n",
    "filtered_infoprice_df = infoprice_df[(infoprice_df['valid'] == True)]"
   ]
  },
  {
   "cell_type": "code",
   "execution_count": 51,
   "metadata": {},
   "outputs": [
    {
     "name": "stdout",
     "output_type": "stream",
     "text": [
      "54739 75407 1748900\n"
     ]
    }
   ],
   "source": [
    "print(filtered_df.shape[0], filtered_products_df.shape[0], filtered_infoprice_df.shape[0])"
   ]
  },
  {
   "cell_type": "code",
   "execution_count": 52,
   "metadata": {},
   "outputs": [],
   "source": [
    "output_path = Path.cwd() / \"data\" / \"prod_validador_inforprice.xlsx\"\n",
    "\n",
    "df.to_excel(output_path, index=False)"
   ]
  }
 ],
 "metadata": {
  "kernelspec": {
   "display_name": "env",
   "language": "python",
   "name": "python3"
  },
  "language_info": {
   "codemirror_mode": {
    "name": "ipython",
    "version": 3
   },
   "file_extension": ".py",
   "mimetype": "text/x-python",
   "name": "python",
   "nbconvert_exporter": "python",
   "pygments_lexer": "ipython3",
   "version": "3.12.5"
  }
 },
 "nbformat": 4,
 "nbformat_minor": 2
}
