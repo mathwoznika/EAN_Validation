{
 "cells": [
  {
   "cell_type": "markdown",
   "metadata": {},
   "source": [
    "### Importando as bibliotecas"
   ]
  },
  {
   "cell_type": "code",
   "execution_count": 3,
   "metadata": {},
   "outputs": [],
   "source": [
    "import pandas as pd\n",
    "from pathlib import Path\n",
    "from gtin_validation import main\n",
    "from src.normalize_function import normalized_gtin"
   ]
  },
  {
   "cell_type": "markdown",
   "metadata": {},
   "source": [
    "### Carregando o arquivo"
   ]
  },
  {
   "cell_type": "code",
   "execution_count": 4,
   "metadata": {},
   "outputs": [
    {
     "data": {
      "text/html": [
       "<div>\n",
       "<style scoped>\n",
       "    .dataframe tbody tr th:only-of-type {\n",
       "        vertical-align: middle;\n",
       "    }\n",
       "\n",
       "    .dataframe tbody tr th {\n",
       "        vertical-align: top;\n",
       "    }\n",
       "\n",
       "    .dataframe thead th {\n",
       "        text-align: right;\n",
       "    }\n",
       "</style>\n",
       "<table border=\"1\" class=\"dataframe\">\n",
       "  <thead>\n",
       "    <tr style=\"text-align: right;\">\n",
       "      <th></th>\n",
       "      <th>NOME</th>\n",
       "      <th>BARCODE</th>\n",
       "      <th>BARCODE_NF</th>\n",
       "    </tr>\n",
       "  </thead>\n",
       "  <tbody>\n",
       "    <tr>\n",
       "      <th>count</th>\n",
       "      <td>82546</td>\n",
       "      <td>82547</td>\n",
       "      <td>82548</td>\n",
       "    </tr>\n",
       "    <tr>\n",
       "      <th>unique</th>\n",
       "      <td>81638</td>\n",
       "      <td>81383</td>\n",
       "      <td>77232</td>\n",
       "    </tr>\n",
       "    <tr>\n",
       "      <th>top</th>\n",
       "      <td>Carne Short Rib CARAPRETA no kg</td>\n",
       "      <td>\\N</td>\n",
       "      <td>SEM GTIN</td>\n",
       "    </tr>\n",
       "    <tr>\n",
       "      <th>freq</th>\n",
       "      <td>18</td>\n",
       "      <td>849</td>\n",
       "      <td>4687</td>\n",
       "    </tr>\n",
       "  </tbody>\n",
       "</table>\n",
       "</div>"
      ],
      "text/plain": [
       "                                   NOME BARCODE BARCODE_NF\n",
       "count                             82546   82547      82548\n",
       "unique                            81638   81383      77232\n",
       "top     Carne Short Rib CARAPRETA no kg      \\N   SEM GTIN\n",
       "freq                                 18     849       4687"
      ]
     },
     "execution_count": 4,
     "metadata": {},
     "output_type": "execute_result"
    }
   ],
   "source": [
    "file_path = Path.cwd() / \"data\" / \"base_total_v2.xlsx\"\n",
    "df = pd.read_excel(file_path)\n",
    "df.describe(include=object)"
   ]
  },
  {
   "cell_type": "code",
   "execution_count": 5,
   "metadata": {},
   "outputs": [],
   "source": [
    "df['BARCODE'] = df['BARCODE'].astype(str)\n",
    "df['BARCODE_NF'] = df['BARCODE_NF'].astype(str)\n",
    "#df.rename(columns={'BARCODE': 'COD. DE BARRAS'}, inplace=True)"
   ]
  },
  {
   "cell_type": "markdown",
   "metadata": {},
   "source": [
    "### Funções"
   ]
  },
  {
   "cell_type": "code",
   "execution_count": 6,
   "metadata": {},
   "outputs": [
    {
     "name": "stdout",
     "output_type": "stream",
     "text": [
      "total produtos: 82548\n"
     ]
    }
   ],
   "source": [
    "print(f'total produtos: {df['ID'].count()}')"
   ]
  },
  {
   "cell_type": "code",
   "execution_count": 7,
   "metadata": {},
   "outputs": [],
   "source": [
    "df['valido'] = df['BARCODE'].apply(main)\n",
    "df['normalizado'] = df['BARCODE'].apply(normalized_gtin)\n",
    "df['valido_normalizado'] = df['normalizado'].apply(main)\n",
    "df['duplicado'] = df['BARCODE'].duplicated()\n",
    "df['duplicado_normalizado'] = df['normalizado'].duplicated()\n",
    "df['BARCODE_NF2'] = df.apply(lambda row: row['normalizado'] if main(row['normalizado']) else \"SEM GTIN\", axis=1)\n",
    "#df.to_excel('teste.xlsx', index=False)"
   ]
  },
  {
   "cell_type": "code",
   "execution_count": 8,
   "metadata": {},
   "outputs": [
    {
     "name": "stdout",
     "output_type": "stream",
     "text": [
      "total validos: 77271\n",
      "total invalidos: 5277\n",
      "total validos normalizado: 77868\n",
      "total invalidos normalizado: 4680\n",
      "total duplicados: 1164\n",
      "total duplicados normalizado: 1915\n"
     ]
    }
   ],
   "source": [
    "print(f\"total validos: {df['valido'].sum()}\")\n",
    "print(f\"total invalidos: {(df['valido'] == False).sum()}\")\n",
    "print(f\"total validos normalizado: {df['valido_normalizado'].sum()}\")\n",
    "print(f\"total invalidos normalizado: {(df['valido_normalizado'] == False).sum()}\")\n",
    "print(f\"total duplicados: {df['duplicado'].sum()}\")\n",
    "print(f\"total duplicados normalizado: {df['duplicado_normalizado'].sum()}\")"
   ]
  },
  {
   "cell_type": "code",
   "execution_count": 8,
   "metadata": {},
   "outputs": [],
   "source": [
    "df.to_excel('yyyyyyyyyyyy.xlsx')"
   ]
  },
  {
   "cell_type": "code",
   "execution_count": null,
   "metadata": {},
   "outputs": [],
   "source": []
  },
  {
   "cell_type": "markdown",
   "metadata": {},
   "source": [
    "### Montando um DataFrame para fazer as análises"
   ]
  },
  {
   "cell_type": "code",
   "execution_count": 5,
   "metadata": {},
   "outputs": [
    {
     "data": {
      "text/html": [
       "<div>\n",
       "<style scoped>\n",
       "    .dataframe tbody tr th:only-of-type {\n",
       "        vertical-align: middle;\n",
       "    }\n",
       "\n",
       "    .dataframe tbody tr th {\n",
       "        vertical-align: top;\n",
       "    }\n",
       "\n",
       "    .dataframe thead th {\n",
       "        text-align: right;\n",
       "    }\n",
       "</style>\n",
       "<table border=\"1\" class=\"dataframe\">\n",
       "  <thead>\n",
       "    <tr style=\"text-align: right;\">\n",
       "      <th></th>\n",
       "      <th>ID_PDX</th>\n",
       "      <th>PRODUTO</th>\n",
       "      <th>NOME</th>\n",
       "      <th>COD. DE BARRAS</th>\n",
       "      <th>FAT_2024</th>\n",
       "      <th>COD. DE BARRAS SO DIGITO</th>\n",
       "      <th>COD. DE BARRAS NORMALIZADO</th>\n",
       "      <th>DUPLICADO</th>\n",
       "      <th>DUPLICADO SO DIGITO</th>\n",
       "      <th>VAL. COD. DE BARRAS</th>\n",
       "      <th>VAL. COD. DE BARRAS NORMALIZADO</th>\n",
       "      <th>id</th>\n",
       "    </tr>\n",
       "  </thead>\n",
       "  <tbody>\n",
       "    <tr>\n",
       "      <th>3054</th>\n",
       "      <td>13195</td>\n",
       "      <td>45473</td>\n",
       "      <td>Energético MONSTER Mango Loco 473ml</td>\n",
       "      <td>70847033301</td>\n",
       "      <td>521383.81</td>\n",
       "      <td>70847033301</td>\n",
       "      <td>0070847033301</td>\n",
       "      <td>False</td>\n",
       "      <td>False</td>\n",
       "      <td>False</td>\n",
       "      <td>True</td>\n",
       "      <td>24</td>\n",
       "    </tr>\n",
       "    <tr>\n",
       "      <th>4298</th>\n",
       "      <td>13653</td>\n",
       "      <td>47169</td>\n",
       "      <td>Energético MONSTER Mango loco Lata 473ml</td>\n",
       "      <td>070847033301e</td>\n",
       "      <td>4508.14</td>\n",
       "      <td>70847033301</td>\n",
       "      <td>0070847033301</td>\n",
       "      <td>False</td>\n",
       "      <td>True</td>\n",
       "      <td>False</td>\n",
       "      <td>True</td>\n",
       "      <td>24</td>\n",
       "    </tr>\n",
       "    <tr>\n",
       "      <th>33603</th>\n",
       "      <td>15147</td>\n",
       "      <td>150631</td>\n",
       "      <td>Energético juice monster mango loco lata 473ml</td>\n",
       "      <td>70847033301</td>\n",
       "      <td>13.07</td>\n",
       "      <td>70847033301</td>\n",
       "      <td>0070847033301</td>\n",
       "      <td>True</td>\n",
       "      <td>True</td>\n",
       "      <td>False</td>\n",
       "      <td>True</td>\n",
       "      <td>24</td>\n",
       "    </tr>\n",
       "  </tbody>\n",
       "</table>\n",
       "</div>"
      ],
      "text/plain": [
       "       ID_PDX  PRODUTO                                            NOME  \\\n",
       "3054    13195    45473             Energético MONSTER Mango Loco 473ml   \n",
       "4298    13653    47169        Energético MONSTER Mango loco Lata 473ml   \n",
       "33603   15147   150631  Energético juice monster mango loco lata 473ml   \n",
       "\n",
       "      COD. DE BARRAS   FAT_2024 COD. DE BARRAS SO DIGITO  \\\n",
       "3054     70847033301  521383.81              70847033301   \n",
       "4298   070847033301e    4508.14              70847033301   \n",
       "33603    70847033301      13.07              70847033301   \n",
       "\n",
       "      COD. DE BARRAS NORMALIZADO  DUPLICADO  DUPLICADO SO DIGITO  \\\n",
       "3054               0070847033301      False                False   \n",
       "4298               0070847033301      False                 True   \n",
       "33603              0070847033301       True                 True   \n",
       "\n",
       "       VAL. COD. DE BARRAS  VAL. COD. DE BARRAS NORMALIZADO  id  \n",
       "3054                 False                             True  24  \n",
       "4298                 False                             True  24  \n",
       "33603                False                             True  24  "
      ]
     },
     "execution_count": 5,
     "metadata": {},
     "output_type": "execute_result"
    }
   ],
   "source": [
    "products_df = df[df['FAT_2024'] != 0].copy()\n",
    "products_df = products_df.sort_values(by=['FAT_2024'], ascending=False)\n",
    "products_df['COD. DE BARRAS SO DIGITO'] = products_df['COD. DE BARRAS'].apply(raw_gtin)\n",
    "products_df['COD. DE BARRAS NORMALIZADO'] = products_df['COD. DE BARRAS SO DIGITO'].apply(normalized_gtin)\n",
    "products_df['DUPLICADO'] = products_df['COD. DE BARRAS'].duplicated()\n",
    "products_df['DUPLICADO SO DIGITO'] = products_df['COD. DE BARRAS SO DIGITO'].duplicated()\n",
    "products_df['VAL. COD. DE BARRAS'] = products_df['COD. DE BARRAS'].apply(main)\n",
    "products_df['VAL. COD. DE BARRAS NORMALIZADO'] = products_df['COD. DE BARRAS NORMALIZADO'].apply(main)\n",
    "products_df['id'] = pd.factorize(products_df['COD. DE BARRAS NORMALIZADO'])[0]\n",
    "\n",
    "#AMBOS VALIDANDO - 25802\n",
    "#COM O CADASTRADO NO SISTEMA COMO VALIDADADO E COM O NORMALIZADO COMO INVALIDO - 0\n",
    "#COM O CADASTRADO NO SISTEMA COMO INVALIDO E COM O NORMALIZADO COMO VALIDADADO - 308\n",
    "#AMBOS INVALIDOS - 446\n",
    "\n",
    "filtered_df = products_df[(products_df['COD. DE BARRAS SO DIGITO'] == '70847033301')]\n",
    "filtered_df.head()"
   ]
  },
  {
   "cell_type": "markdown",
   "metadata": {},
   "source": [
    "## 2 - Análise dos produtos e duplicados"
   ]
  },
  {
   "cell_type": "markdown",
   "metadata": {},
   "source": [
    "### Separando o df em únicos e duplicados"
   ]
  },
  {
   "cell_type": "code",
   "execution_count": 6,
   "metadata": {},
   "outputs": [],
   "source": [
    "unique_prod_df = products_df[(products_df['DUPLICADO SO DIGITO'] == False)]\n",
    "duplicates_prod_df = products_df[(products_df['DUPLICADO SO DIGITO'])]"
   ]
  },
  {
   "cell_type": "markdown",
   "metadata": {},
   "source": [
    "### Criando um df com os códigos de barras duplicados e seus respectivos faturamentos"
   ]
  },
  {
   "cell_type": "code",
   "execution_count": 7,
   "metadata": {},
   "outputs": [
    {
     "name": "stdout",
     "output_type": "stream",
     "text": [
      "<class 'pandas.core.frame.DataFrame'>\n",
      "Index: 99 entries, 44 to 52\n",
      "Data columns (total 2 columns):\n",
      " #   Column                    Non-Null Count  Dtype  \n",
      "---  ------                    --------------  -----  \n",
      " 0   COD. DE BARRAS SO DIGITO  99 non-null     object \n",
      " 1   FAT_2024                  99 non-null     float64\n",
      "dtypes: float64(1), object(1)\n",
      "memory usage: 2.3+ KB\n"
     ]
    }
   ],
   "source": [
    "fat_dup_df = duplicates_prod_df.groupby('COD. DE BARRAS SO DIGITO', as_index=False)['FAT_2024'].sum().sort_values('FAT_2024', ascending=False)\n",
    "fat_dup_df.info()"
   ]
  },
  {
   "cell_type": "markdown",
   "metadata": {},
   "source": [
    "### Representatividade de duplicados no faturamento total"
   ]
  },
  {
   "cell_type": "code",
   "execution_count": 8,
   "metadata": {},
   "outputs": [
    {
     "name": "stdout",
     "output_type": "stream",
     "text": [
      "O total de produtos duplicados são 109\n",
      "O Faturamento deles representam 0.27 % do faturamento total\n"
     ]
    }
   ],
   "source": [
    "fat_total = products_df['FAT_2024'].sum()\n",
    "fat_total_duplicados = fat_dup_df['FAT_2024'].sum()\n",
    "duplicados_perc = ((fat_total_duplicados/fat_total)*100).round(2)\n",
    "total_duplicados = len(duplicates_prod_df)\n",
    "print(f'O total de produtos duplicados são {total_duplicados}')\n",
    "print(f'O Faturamento deles representam {duplicados_perc} % do faturamento total')\n"
   ]
  },
  {
   "cell_type": "markdown",
   "metadata": {},
   "source": [
    "### Montando um df com os produtos \"Pai\" e informações de faturamentos dos produtos \"Filhos\"\n",
    "Afim de fazer uma análise representatividade dos duplicados em relação ao produto pai "
   ]
  },
  {
   "cell_type": "code",
   "execution_count": 9,
   "metadata": {},
   "outputs": [
    {
     "data": {
      "text/html": [
       "<div>\n",
       "<style scoped>\n",
       "    .dataframe tbody tr th:only-of-type {\n",
       "        vertical-align: middle;\n",
       "    }\n",
       "\n",
       "    .dataframe tbody tr th {\n",
       "        vertical-align: top;\n",
       "    }\n",
       "\n",
       "    .dataframe thead th {\n",
       "        text-align: right;\n",
       "    }\n",
       "</style>\n",
       "<table border=\"1\" class=\"dataframe\">\n",
       "  <thead>\n",
       "    <tr style=\"text-align: right;\">\n",
       "      <th></th>\n",
       "      <th>ID_PDX</th>\n",
       "      <th>PRODUTO</th>\n",
       "      <th>NOME</th>\n",
       "      <th>COD. DE BARRAS</th>\n",
       "      <th>FAT_2024</th>\n",
       "      <th>COD. DE BARRAS SO DIGITO</th>\n",
       "      <th>COD. DE BARRAS NORMALIZADO</th>\n",
       "      <th>DUPLICADO</th>\n",
       "      <th>DUPLICADO SO DIGITO</th>\n",
       "      <th>VAL. COD. DE BARRAS</th>\n",
       "      <th>VAL. COD. DE BARRAS NORMALIZADO</th>\n",
       "      <th>id</th>\n",
       "      <th>FAT_2024_DUP</th>\n",
       "      <th>PERC_FAT_DUP</th>\n",
       "    </tr>\n",
       "  </thead>\n",
       "  <tbody>\n",
       "    <tr>\n",
       "      <th>0</th>\n",
       "      <td>13195</td>\n",
       "      <td>41466</td>\n",
       "      <td>Refrigerante COCA-COLA Original 1,5L</td>\n",
       "      <td>7894900011753</td>\n",
       "      <td>2025993.13</td>\n",
       "      <td>7894900011753</td>\n",
       "      <td>7894900011753</td>\n",
       "      <td>False</td>\n",
       "      <td>False</td>\n",
       "      <td>True</td>\n",
       "      <td>True</td>\n",
       "      <td>0</td>\n",
       "      <td>NaN</td>\n",
       "      <td>NaN</td>\n",
       "    </tr>\n",
       "    <tr>\n",
       "      <th>1</th>\n",
       "      <td>13653</td>\n",
       "      <td>43794</td>\n",
       "      <td>Refrigerante COCA-COLA Sem Açúcar 1,5L</td>\n",
       "      <td>7894900701753</td>\n",
       "      <td>1956854.94</td>\n",
       "      <td>7894900701753</td>\n",
       "      <td>7894900701753</td>\n",
       "      <td>False</td>\n",
       "      <td>False</td>\n",
       "      <td>True</td>\n",
       "      <td>True</td>\n",
       "      <td>1</td>\n",
       "      <td>NaN</td>\n",
       "      <td>NaN</td>\n",
       "    </tr>\n",
       "    <tr>\n",
       "      <th>2</th>\n",
       "      <td>13195</td>\n",
       "      <td>37137</td>\n",
       "      <td>Cerveja HEINEKEN Long Neck 330ml</td>\n",
       "      <td>78936683</td>\n",
       "      <td>1617171.09</td>\n",
       "      <td>78936683</td>\n",
       "      <td>78936683</td>\n",
       "      <td>False</td>\n",
       "      <td>False</td>\n",
       "      <td>True</td>\n",
       "      <td>True</td>\n",
       "      <td>2</td>\n",
       "      <td>512.24</td>\n",
       "      <td>0.031665</td>\n",
       "    </tr>\n",
       "    <tr>\n",
       "      <th>3</th>\n",
       "      <td>13195</td>\n",
       "      <td>36714</td>\n",
       "      <td>Refrigerante COCA-COLA Original 2L</td>\n",
       "      <td>7894900027013</td>\n",
       "      <td>1476378.79</td>\n",
       "      <td>7894900027013</td>\n",
       "      <td>7894900027013</td>\n",
       "      <td>False</td>\n",
       "      <td>False</td>\n",
       "      <td>True</td>\n",
       "      <td>True</td>\n",
       "      <td>3</td>\n",
       "      <td>NaN</td>\n",
       "      <td>NaN</td>\n",
       "    </tr>\n",
       "    <tr>\n",
       "      <th>4</th>\n",
       "      <td>13195</td>\n",
       "      <td>153149</td>\n",
       "      <td>Cerveja HEINEKEN Lata Sleek 350ml</td>\n",
       "      <td>7896045506873</td>\n",
       "      <td>1086855.90</td>\n",
       "      <td>7896045506873</td>\n",
       "      <td>7896045506873</td>\n",
       "      <td>False</td>\n",
       "      <td>False</td>\n",
       "      <td>True</td>\n",
       "      <td>True</td>\n",
       "      <td>4</td>\n",
       "      <td>NaN</td>\n",
       "      <td>NaN</td>\n",
       "    </tr>\n",
       "  </tbody>\n",
       "</table>\n",
       "</div>"
      ],
      "text/plain": [
       "   ID_PDX  PRODUTO                                    NOME COD. DE BARRAS  \\\n",
       "0   13195    41466    Refrigerante COCA-COLA Original 1,5L  7894900011753   \n",
       "1   13653    43794  Refrigerante COCA-COLA Sem Açúcar 1,5L  7894900701753   \n",
       "2   13195    37137        Cerveja HEINEKEN Long Neck 330ml       78936683   \n",
       "3   13195    36714      Refrigerante COCA-COLA Original 2L  7894900027013   \n",
       "4   13195   153149       Cerveja HEINEKEN Lata Sleek 350ml  7896045506873   \n",
       "\n",
       "     FAT_2024 COD. DE BARRAS SO DIGITO COD. DE BARRAS NORMALIZADO  DUPLICADO  \\\n",
       "0  2025993.13            7894900011753              7894900011753      False   \n",
       "1  1956854.94            7894900701753              7894900701753      False   \n",
       "2  1617171.09                 78936683                   78936683      False   \n",
       "3  1476378.79            7894900027013              7894900027013      False   \n",
       "4  1086855.90            7896045506873              7896045506873      False   \n",
       "\n",
       "   DUPLICADO SO DIGITO  VAL. COD. DE BARRAS  VAL. COD. DE BARRAS NORMALIZADO  \\\n",
       "0                False                 True                             True   \n",
       "1                False                 True                             True   \n",
       "2                False                 True                             True   \n",
       "3                False                 True                             True   \n",
       "4                False                 True                             True   \n",
       "\n",
       "   id  FAT_2024_DUP  PERC_FAT_DUP  \n",
       "0   0           NaN           NaN  \n",
       "1   1           NaN           NaN  \n",
       "2   2        512.24      0.031665  \n",
       "3   3           NaN           NaN  \n",
       "4   4           NaN           NaN  "
      ]
     },
     "execution_count": 9,
     "metadata": {},
     "output_type": "execute_result"
    }
   ],
   "source": [
    "unique_prod_df = unique_prod_df.merge(fat_dup_df, how='left', left_on=['COD. DE BARRAS SO DIGITO'], right_on=['COD. DE BARRAS SO DIGITO'])\n",
    "unique_prod_df.fillna(0)\n",
    "unique_prod_df['PERC_FAT_DUP'] = (unique_prod_df['FAT_2024_y']/(unique_prod_df['FAT_2024_x'] + unique_prod_df['FAT_2024_y']))*100\n",
    "unique_prod_df = unique_prod_df.rename(columns={'FAT_2024_x': 'FAT_2024', 'FAT_2024_y': 'FAT_2024_DUP'})\n",
    "unique_prod_df.head()"
   ]
  },
  {
   "cell_type": "markdown",
   "metadata": {},
   "source": [
    "### Análise de representatividade dos itens não duplicados que estão com o GTIN inválido"
   ]
  },
  {
   "cell_type": "code",
   "execution_count": 10,
   "metadata": {},
   "outputs": [
    {
     "name": "stdout",
     "output_type": "stream",
     "text": [
      "O total de produtos únicos inválidos são 446\n",
      "O faturamento deles representam 0.12 % do faturamento total\n"
     ]
    }
   ],
   "source": [
    "invalid_unique_prod_df = unique_prod_df[(unique_prod_df['VAL. COD. DE BARRAS NORMALIZADO'] == False)]\n",
    "fat_total_invalidos = invalid_unique_prod_df['FAT_2024'].sum()\n",
    "fat_total_unicos = unique_prod_df['FAT_2024'].sum()\n",
    "invalid_perc = ((fat_total_invalidos/fat_total_unicos)*100).round(2)\n",
    "total_invalidos = invalid_unique_prod_df['PRODUTO'].count()\n",
    "print(f'O total de produtos únicos inválidos são {total_invalidos}')\n",
    "print(f'O faturamento deles representam {invalid_perc} % do faturamento total')\n"
   ]
  },
  {
   "cell_type": "code",
   "execution_count": 11,
   "metadata": {},
   "outputs": [
    {
     "name": "stdout",
     "output_type": "stream",
     "text": [
      "Quantidade total: 26556\n",
      "Quantidade única: 26447\n",
      "Quantidade duplicados: 109\n"
     ]
    }
   ],
   "source": [
    "qty_unique_id = products_df['id'].nunique()\n",
    "qty_total = products_df['id'].count()\n",
    "print(f'Quantidade total: {qty_total}')\n",
    "print(f'Quantidade única: {qty_unique_id}')\n",
    "print(f'Quantidade duplicados: {qty_total-qty_unique_id}')"
   ]
  },
  {
   "cell_type": "code",
   "execution_count": 12,
   "metadata": {},
   "outputs": [
    {
     "name": "stdout",
     "output_type": "stream",
     "text": [
      "<class 'pandas.core.frame.DataFrame'>\n",
      "Index: 208 entries, 217 to 5951\n",
      "Data columns (total 12 columns):\n",
      " #   Column                           Non-Null Count  Dtype  \n",
      "---  ------                           --------------  -----  \n",
      " 0   ID_PDX                           208 non-null    int64  \n",
      " 1   PRODUTO                          208 non-null    int64  \n",
      " 2   NOME                             208 non-null    object \n",
      " 3   COD. DE BARRAS                   208 non-null    object \n",
      " 4   FAT_2024                         208 non-null    float64\n",
      " 5   COD. DE BARRAS SO DIGITO         208 non-null    object \n",
      " 6   COD. DE BARRAS NORMALIZADO       208 non-null    object \n",
      " 7   DUPLICADO                        208 non-null    bool   \n",
      " 8   DUPLICADO SO DIGITO              208 non-null    bool   \n",
      " 9   VAL. COD. DE BARRAS              208 non-null    bool   \n",
      " 10  VAL. COD. DE BARRAS NORMALIZADO  208 non-null    bool   \n",
      " 11  id                               208 non-null    int64  \n",
      "dtypes: bool(4), float64(1), int64(3), object(4)\n",
      "memory usage: 15.4+ KB\n"
     ]
    }
   ],
   "source": [
    "duplicates_id = products_df.groupby('id').filter(lambda x: len(x) > 1)['id']\n",
    "duplicates_id = duplicates_id.unique()\n",
    "only_duplicates_df = products_df[products_df['id'].isin(duplicates_id)]\n",
    "only_duplicates_df.info()"
   ]
  },
  {
   "cell_type": "code",
   "execution_count": 13,
   "metadata": {},
   "outputs": [],
   "source": [
    "output_path = Path.cwd() / \"data\" / \"unique_prod.xlsx\"\n",
    "unique_prod_df.to_excel(output_path, index=False)"
   ]
  }
 ],
 "metadata": {
  "kernelspec": {
   "display_name": "env",
   "language": "python",
   "name": "python3"
  },
  "language_info": {
   "codemirror_mode": {
    "name": "ipython",
    "version": 3
   },
   "file_extension": ".py",
   "mimetype": "text/x-python",
   "name": "python",
   "nbconvert_exporter": "python",
   "pygments_lexer": "ipython3",
   "version": "3.12.5"
  }
 },
 "nbformat": 4,
 "nbformat_minor": 2
}
